{
 "cells": [
  {
   "cell_type": "code",
   "execution_count": 18,
   "metadata": {},
   "outputs": [
    {
     "ename": "ModuleNotFoundError",
     "evalue": "No module named 'single_box_cropper.single_box_cropper'; 'single_box_cropper' is not a package",
     "output_type": "error",
     "traceback": [
      "\u001b[0;31m---------------------------------------------------------------------------\u001b[0m",
      "\u001b[0;31mModuleNotFoundError\u001b[0m                       Traceback (most recent call last)",
      "\u001b[0;32m<ipython-input-18-08e5c1606d0f>\u001b[0m in \u001b[0;36m<module>\u001b[0;34m\u001b[0m\n\u001b[0;32m----> 1\u001b[0;31m \u001b[0;32mfrom\u001b[0m \u001b[0msingle_box_cropper\u001b[0m\u001b[0;34m.\u001b[0m\u001b[0msingle_box_cropper\u001b[0m \u001b[0;32mimport\u001b[0m \u001b[0mSingleBoxCropper\u001b[0m\u001b[0;34m\u001b[0m\u001b[0;34m\u001b[0m\u001b[0m\n\u001b[0m\u001b[1;32m      2\u001b[0m \u001b[0;32mimport\u001b[0m \u001b[0mos\u001b[0m\u001b[0;34m\u001b[0m\u001b[0;34m\u001b[0m\u001b[0m\n\u001b[1;32m      3\u001b[0m \u001b[0;34m\u001b[0m\u001b[0m\n\u001b[1;32m      4\u001b[0m \u001b[0mprint\u001b[0m\u001b[0;34m(\u001b[0m\u001b[0;34m\"ok\"\u001b[0m\u001b[0;34m)\u001b[0m\u001b[0;34m\u001b[0m\u001b[0;34m\u001b[0m\u001b[0m\n",
      "\u001b[0;31mModuleNotFoundError\u001b[0m: No module named 'single_box_cropper.single_box_cropper'; 'single_box_cropper' is not a package"
     ]
    }
   ],
   "source": [
    "from single_box_cropper import SingleBoxCropper\n",
    "import os\n",
    "\n",
    "print(\"ok\")"
   ]
  },
  {
   "cell_type": "code",
   "execution_count": null,
   "metadata": {},
   "outputs": [],
   "source": [
    "def process_file(file_name):\n",
    "    if not file_name or not os.path.isfile(file_name):\n",
    "        print(f'File not found {file_name}.')\n",
    "        return\n",
    "    if not file_name.lower().endswith('jpg'):\n",
    "        print(f'File {file_name} is not a jpg image.')\n",
    "        return\n",
    "    \n",
    "    cropper = SingleBoxCropper(file_name)\n",
    "    count = cropper.crop_boxes()\n",
    "    print(f'File {file_name} processed. {count} boxes found.')\n",
    "    \n",
    "print(\"ok1\")"
   ]
  },
  {
   "cell_type": "code",
   "execution_count": null,
   "metadata": {},
   "outputs": [],
   "source": [
    "folder_name = \"/home/dlinano/Images\"\n",
    "print(\"ok2\")"
   ]
  },
  {
   "cell_type": "code",
   "execution_count": null,
   "metadata": {},
   "outputs": [],
   "source": [
    "'''\n",
    "Code to process all files in folder.\n",
    "'''\n",
    "if not folder_name or not os.path.isdir(folder_name):\n",
    "    print(f'Directory not found {folder_name}.')\n",
    "else:\n",
    "    for file_name in os.listdir(folder_name):\n",
    "        if os.path.isfile(os.path.join(folder_name, file_name)):\n",
    "            process_file(os.path.join(folder_name, file_name))\n",
    "print(\"ok3\")"
   ]
  },
  {
   "cell_type": "code",
   "execution_count": null,
   "metadata": {},
   "outputs": [],
   "source": []
  }
 ],
 "metadata": {
  "kernelspec": {
   "display_name": "Python 3",
   "language": "python",
   "name": "python3"
  },
  "language_info": {
   "codemirror_mode": {
    "name": "ipython",
    "version": 3
   },
   "file_extension": ".py",
   "mimetype": "text/x-python",
   "name": "python",
   "nbconvert_exporter": "python",
   "pygments_lexer": "ipython3",
   "version": "3.8.5"
  }
 },
 "nbformat": 4,
 "nbformat_minor": 4
}
