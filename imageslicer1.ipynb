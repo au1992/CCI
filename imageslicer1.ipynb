{
 "cells": [
  {
   "cell_type": "code",
   "execution_count": 14,
   "metadata": {},
   "outputs": [
    {
     "name": "stdout",
     "output_type": "stream",
     "text": [
      "OK1\n"
     ]
    }
   ],
   "source": [
    "import os\n",
    "\n",
    "import glob\n",
    "\n",
    "from PIL import Image\n",
    "print (\"OK1\")"
   ]
  },
  {
   "cell_type": "code",
   "execution_count": 15,
   "metadata": {},
   "outputs": [
    {
     "name": "stdout",
     "output_type": "stream",
     "text": [
      "OK\n"
     ]
    }
   ],
   "source": [
    "for name in glob.glob('/home/dlinano/AI/*'):\n",
    "   \n",
    "    # Crops the image and saves it as \"new_filename\"\n",
    "    def crop_image(img, crop_area, new_filename):\n",
    "        cropped_image = img.crop(crop_area)\n",
    "        cropped_image.save(new_filename)\n",
    "\n",
    "    image_name = name # The x, y coordinates of the areas to be cropped. (x1, y1, x2, y2)\n",
    "    # crop_areas = [(880, 292, 2500, 1600),(1000,1300,2600,2500),(1000,2200,2500,3350),(2218,443,3768,1535),(2300,1300,3700,2500),(2300,2300,3700,3289)]\n",
    "    crop_areas = [(1084,297,2365,1199),(1106,1040,2343,1931),(1139,1777,2343,2602),(2195,264,3460,1232),(2211,996,3443,1931),(2222,1733,3438,2618)]\n",
    "    image_name = name\n",
    "    img = Image.open(image_name)\n",
    "\n",
    "    # Loops through the \"crop_areas\" list and crops the image based on the coordinates in the list\n",
    "    for i, crop_area in enumerate(crop_areas):\n",
    "        filename = os.path.splitext(image_name)[0]\n",
    "        ext = os.path.splitext(image_name)[1]\n",
    "        new_filename = filename + '_A' + str(i) + ext\n",
    "\n",
    "        crop_image(img, crop_area, new_filename)\n",
    "\n",
    "\n",
    "\n",
    "\n",
    "print (\"OK\")"
   ]
  },
  {
   "cell_type": "code",
   "execution_count": null,
   "metadata": {},
   "outputs": [],
   "source": []
  }
 ],
 "metadata": {
  "kernelspec": {
   "display_name": "Python 3",
   "language": "python",
   "name": "python3"
  },
  "language_info": {
   "codemirror_mode": {
    "name": "ipython",
    "version": 3
   },
   "file_extension": ".py",
   "mimetype": "text/x-python",
   "name": "python",
   "nbconvert_exporter": "python",
   "pygments_lexer": "ipython3",
   "version": "3.8.5"
  }
 },
 "nbformat": 4,
 "nbformat_minor": 4
}
